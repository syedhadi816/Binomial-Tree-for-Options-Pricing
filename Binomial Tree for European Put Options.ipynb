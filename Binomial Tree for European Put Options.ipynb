{
 "cells": [
  {
   "cell_type": "markdown",
   "metadata": {},
   "source": [
    "Obtain the price of a European type put option with 𝑟 = 0.1, 𝜇 = 0.15, 𝜎 = 0.4, 𝐸 = 90, 𝑆 = 100\n",
    "and 𝑇 = 2."
   ]
  },
  {
   "cell_type": "code",
   "execution_count": 221,
   "metadata": {},
   "outputs": [],
   "source": [
    "#Binomial Tree for European Put\n",
    "#Citation: Code algorithm was inspired by Joseph Thurman's Blog \n",
    "\n",
    "import numpy as npObtain the price of a European type put option with 𝑟 = 0.1, 𝜇 = 0.15, 𝜎 = 0.4, 𝐸 = 90, 𝑆 = 100\n",
    "and 𝑇 = 2.\n",
    "import math"
   ]
  },
  {
   "cell_type": "code",
   "execution_count": 256,
   "metadata": {},
   "outputs": [],
   "source": [
    "#𝑟 = 0.1, 𝜎 = 0.3 𝑆=90,𝐸=100, 𝑇=1 \n",
    "dt = 1/252\n",
    "S = 90\n",
    "r = 0.1\n",
    "K = 100\n",
    "N = 252\n",
    "vol = 0.3\n",
    "u = math.exp(vol * math.sqrt(dt))\n",
    "T=1\n",
    "d = 1/u"
   ]
  },
  {
   "cell_type": "code",
   "execution_count": 257,
   "metadata": {},
   "outputs": [],
   "source": [
    "def Heaviside(x):\n",
    "    if (x<0):\n",
    "        return 0\n",
    "    if (x>=0):\n",
    "        return 1"
   ]
  },
  {
   "cell_type": "code",
   "execution_count": 258,
   "metadata": {},
   "outputs": [],
   "source": [
    "def B_tree(S, K, T, r, u, d, N):\n",
    "    dt = T/N\n",
    "    p = (math.exp(r * dt) - d)/(u - d)\n",
    "    C = {}\n",
    "    for m in range(0, N+1):\n",
    "            #C[(N, m)] = (S*(u**(m))*(d ** (N-m)))*Heaviside(S * (u ** (m)) * (d ** (N-m))-K)\n",
    "            C[(N, m)] = max(-S * (u ** (2*m - N)) + K, 0)\n",
    "    for k in range(N-1, -1, -1):\n",
    "        for m in range(0,k+1):\n",
    "            C[(k, m)] = math.exp(-r * dt) * (p * C[(k+1, m+1)] + (1-p) * C[(k+1, m)])\n",
    "    return C[(0,0)]"
   ]
  },
  {
   "cell_type": "code",
   "execution_count": 259,
   "metadata": {},
   "outputs": [
    {
     "name": "stdout",
     "output_type": "stream",
     "text": [
      "11.00467107075439\n"
     ]
    }
   ],
   "source": [
    "print(B_tree(S, K, T, r, u , d, N))"
   ]
  }
 ],
 "metadata": {
  "kernelspec": {
   "display_name": "Python 3",
   "language": "python",
   "name": "python3"
  },
  "language_info": {
   "codemirror_mode": {
    "name": "ipython",
    "version": 3
   },
   "file_extension": ".py",
   "mimetype": "text/x-python",
   "name": "python",
   "nbconvert_exporter": "python",
   "pygments_lexer": "ipython3",
   "version": "3.8.3rc1"
  }
 },
 "nbformat": 4,
 "nbformat_minor": 4
}
